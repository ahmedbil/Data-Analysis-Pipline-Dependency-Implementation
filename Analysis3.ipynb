{
 "cells": [
  {
   "cell_type": "code",
   "execution_count": 51,
   "metadata": {},
   "outputs": [],
   "source": [
    "import pandas\n",
    "from math import*\n",
    "import numpy as np\n",
    "import matplotlib.pyplot as plt"
   ]
  },
  {
   "cell_type": "code",
   "execution_count": 56,
   "metadata": {},
   "outputs": [],
   "source": [
    "#creating a new data frame containing DataSample with Assigned POI\n",
    "#Please use the attached file export_dataframe.csv\n",
    "poi_analysis = pandas.read_csv(\"C:\\\\Users\\\\ahmed\\\\Desktop\\\\DataRole1\\\\export_dataframe.csv\")"
   ]
  },
  {
   "cell_type": "code",
   "execution_count": 57,
   "metadata": {},
   "outputs": [],
   "source": [
    "plt.close(\"all\")"
   ]
  },
  {
   "cell_type": "code",
   "execution_count": 58,
   "metadata": {},
   "outputs": [
    {
     "name": "stdout",
     "output_type": "stream",
     "text": [
      "This is the radius of the circle for POI1:  24.85193722989388\n",
      "This is the radius of the circle for POI2:  24.85193722989388\n",
      "This is the radius of the circle for POI3:  24.85193722989388\n",
      "This is the radius of the circle for POI4:  24.85193722989388\n"
     ]
    }
   ],
   "source": [
    "## POI1\n",
    "poi_1 = poi_analysis[poi_analysis[\"Associated POI\"] == \"POI1\"].copy()\n",
    "poi_1 = poi_1.reset_index(drop = True)\n",
    "poi_dis_1 = poi_1[['Associated POI', 'Distance POI']].copy()\n",
    "##Radius for POI1 which contains all the points assigned to it \n",
    "radius_1 =  poi_dis_1['Distance POI'].max()\n",
    "print(\"This is the radius of the circle for POI1: \", radius_1)\n",
    "\n",
    "\n",
    "## POI2\n",
    "## Since POI2 is same as POI1, the same properties hold as POI1\n",
    "poi_2 = poi_1\n",
    "poi_dis_2 = poi_1[['Associated POI', 'Distance POI']].copy()\n",
    "##Radius for POI2 which contains all the points assigned to it \n",
    "radius_2 =  poi_dis_1['Distance POI'].max()\n",
    "print(\"This is the radius of the circle for POI2: \", radius_2)\n",
    "\n",
    "\n",
    "## POI3\n",
    "poi_3 = poi_analysis[poi_analysis[\"Associated POI\"] == \"POI3\"].copy()\n",
    "poi_3 = poi_3.reset_index(drop = True)\n",
    "poi_dis_3 = poi_3[['Associated POI', 'Distance POI']].copy()\n",
    "##Radius for POI3 which contains all the points assigned to it \n",
    "radius_3 =  poi_dis_3['Distance POI'].max()\n",
    "print(\"This is the radius of the circle for POI3: \", radius_1)\n",
    "\n",
    "\n",
    "\n",
    "## POI4\n",
    "poi_4 = poi_analysis[poi_analysis[\"Associated POI\"] == \"POI4\"].copy()\n",
    "poi_4 = poi_4.reset_index(drop = True)\n",
    "poi_dis_4 = poi_4[['Associated POI', 'Distance POI']].copy()\n",
    "##Radius for POI4 which contains all the points assigned to it \n",
    "radius_4 =  poi_dis_4['Distance POI'].max()\n",
    "print(\"This is the radius of the circle for POI4: \", radius_1)\n",
    "\n"
   ]
  },
  {
   "cell_type": "code",
   "execution_count": 59,
   "metadata": {},
   "outputs": [],
   "source": [
    "## Creating Variables that store Latitude and Longitude for each POI\n",
    "poi_original = pandas.read_csv(\"C:\\\\Users\\\\ahmed\\\\Desktop\\\\\\\\DataRole1\\\\POIList.csv\")\n",
    "poi_1_latitude = poi_original.iloc[0][' Latitude']\n",
    "poi_1_longitude = poi_original.iloc[0]['Longitude']\n",
    "poi_2_latitude = poi_original.iloc[1][' Latitude']\n",
    "poi_2_longitude = poi_original.iloc[1]['Longitude']\n",
    "poi_3_latitude = poi_original.iloc[2][' Latitude']\n",
    "poi_3_longitude = poi_original.iloc[2]['Longitude']\n",
    "poi_4_latitude = poi_original.iloc[3][' Latitude']\n",
    "poi_4_longitude = poi_original.iloc[3]['Longitude']"
   ]
  },
  {
   "cell_type": "code",
   "execution_count": 60,
   "metadata": {},
   "outputs": [
    {
     "data": {
      "image/png": "[encoded data removed]",
      "text/plain": [
       "<Figure size 432x288 with 1 Axes>"
      ]
     },
     "metadata": {
      "needs_background": "light"
     },
     "output_type": "display_data"
    }
   ],
   "source": [
    "## Plotting the Graph to represent the circle around each POI that contains  all of its assigned request addresses\n",
    "\n",
    "fig, ax = plt.subplots()\n",
    "\n",
    "# Defining the x and y axis of the graph\n",
    "plt.xlim(-270,140)\n",
    "plt.ylim(-170, 250)\n",
    "\n",
    "#Setting up the properties of the graph\n",
    "ax.set_xlabel(\"Longitude\")\n",
    "ax.set_ylabel(\"Latitude\")\n",
    "\n",
    "plt.grid(linestyle='--')\n",
    "ax.scatter(poi_analysis['Longitude'], poi_analysis['Latitude'])\n",
    "\n",
    "#Creating Circles and POI's\n",
    "cir_1 = plt.Circle((poi_1_longitude, poi_1_latitude), radius_1, color='r',fill=False)\n",
    "cir_2 = plt.Circle((poi_2_longitude, poi_2_latitude), radius_2, color='r',fill=False)\n",
    "cir_3 = plt.Circle((poi_3_longitude, poi_3_latitude), radius_3, color='g',fill=False)\n",
    "cir_4 = plt.Circle((poi_4_longitude, poi_4_latitude), radius_4, color='b',fill=False)\n",
    "poi_cir_4 = plt.Circle((poi_4_longitude, poi_4_latitude), 1, color='r',fill=True)\n",
    "poi_cir_3 = plt.Circle((poi_3_longitude, poi_3_latitude), 1, color='r',fill=True)\n",
    "poi_cir_1 = plt.Circle((poi_1_longitude, poi_1_latitude), 1, color='r',fill=True)\n",
    "poi_cir_2 = plt.Circle((poi_2_longitude, poi_2_latitude), 1, color='r',fill=True)\n",
    "\n",
    "\n",
    "#Red circle represents circle of POI1 and POI2\n",
    "ax.add_patch(cir_1)\n",
    "ax.add_patch(cir_2)\n",
    "#Green circle represents circle of POI3\n",
    "ax.add_patch(cir_3)\n",
    "#Blue circle represents circle of POI4\n",
    "ax.add_patch(cir_4)\n",
    "\n",
    "#Red plotting dots are the location where POI's exist on the graph\n",
    "ax.add_patch(poi_cir_1)\n",
    "ax.add_patch(poi_cir_2)\n",
    "ax.add_patch(poi_cir_4)\n",
    "ax.add_patch(poi_cir_3)\n",
    "\n",
    "plt.show()"
   ]
  },
  {
   "cell_type": "code",
   "execution_count": 61,
   "metadata": {},
   "outputs": [
    {
     "name": "stdout",
     "output_type": "stream",
     "text": [
      "The density of POI1 is 3.5741773365554077\n",
      "The density of POI2 is 3.5741773365554077\n",
      "The density of POI3 is 5.543635734384143\n",
      "The density of POI4 is 0.00341151489824699\n"
     ]
    }
   ],
   "source": [
    "#Density per POI\n",
    "def circle_area(radius):\n",
    "    area = ((radius)**2) * pi\n",
    "    return area\n",
    "\n",
    "dens_poi_1 = len(poi_dis_1) / circle_area(radius_1)\n",
    "dens_poi_2 = len(poi_dis_2) / circle_area(radius_2)\n",
    "dens_poi_3 = len(poi_dis_3) / circle_area(radius_3)\n",
    "dens_poi_4 = len(poi_dis_4) / circle_area(radius_4)\n",
    "print(\"The density of POI1 is\", dens_poi_1)\n",
    "print(\"The density of POI2 is\", dens_poi_2)\n",
    "print(\"The density of POI3 is\", dens_poi_3)\n",
    "print(\"The density of POI4 is\", dens_poi_4)"
   ]
  },
  {
   "cell_type": "code",
   "execution_count": null,
   "metadata": {},
   "outputs": [],
   "source": []
  }
 ],
 "metadata": {
  "kernelspec": {
   "display_name": "Python 3",
   "language": "python",
   "name": "python3"
  },
  "language_info": {
   "codemirror_mode": {
    "name": "ipython",
    "version": 3
   },
   "file_extension": ".py",
   "mimetype": "text/x-python",
   "name": "python",
   "nbconvert_exporter": "python",
   "pygments_lexer": "ipython3",
   "version": "3.8.5"
  }
 },
 "nbformat": 4,
 "nbformat_minor": 4
}
