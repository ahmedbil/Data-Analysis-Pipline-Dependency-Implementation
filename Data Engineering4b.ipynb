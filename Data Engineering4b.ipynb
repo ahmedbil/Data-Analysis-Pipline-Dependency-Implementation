{
 "cells": [
  {
   "cell_type": "code",
   "execution_count": 12,
   "metadata": {},
   "outputs": [],
   "source": [
    "################################################\n",
    "# 4. Data Science/ Engineering Tracks\n",
    "# Doing part 4b)\n",
    "\n",
    "##Defining the dependencies given for each task\n",
    "relations = [ [97, [102]],\n",
    "              [75, [31, 37]],\n",
    "              [100, [20, 36]],\n",
    "              [102, [36, 37, 31]],\n",
    "              [16, [37]],\n",
    "              [39, [73, 100]],\n",
    "              [41, [73, 112]],\n",
    "              [62, [55]],\n",
    "              [112, [97]],\n",
    "              [20, [94, 97]],\n",
    "              [21, [20]],\n",
    "              [73, [20]],\n",
    "              [56, [75, 55]],\n",
    "              [55, [31, 37]],\n",
    "              [94, [56, 102]],\n",
    "            ]"
   ]
  },
  {
   "cell_type": "code",
   "execution_count": 13,
   "metadata": {},
   "outputs": [],
   "source": [
    "#Creating a class to define failed visit path\n",
    "class Failure():\n",
    "    def __intit__(self, visited = []):\n",
    "        self.visited = visited\n",
    " \n",
    "#Creating a class to define success paths visited\n",
    "class Success():\n",
    "    def __init__(self, path = []):\n",
    "        self.path = path\n"
   ]
  },
  {
   "cell_type": "code",
   "execution_count": 14,
   "metadata": {},
   "outputs": [],
   "source": [
    "#neighbours(v, G) produces the neighbours v points at in G\n",
    "def neighbours (v, G):\n",
    "    key = G.copy()\n",
    "    if not key:\n",
    "        return []\n",
    "    \n",
    "    elif  key[0][0] == v:\n",
    "        return key[0][1]\n",
    "    else:\n",
    "        key.pop(0)\n",
    "        return neighbours(v, key)"
   ]
  },
  {
   "cell_type": "code",
   "execution_count": 15,
   "metadata": {},
   "outputs": [],
   "source": [
    "#Finding the Path taken from each task\n",
    "def find_path_list(nbrs, dest, g, visited):\n",
    "    if visited == None:\n",
    "        visited = []\n",
    "    \n",
    "    if not nbrs:\n",
    "        failure = Failure()\n",
    "        failure.visited = visited\n",
    "        return failure\n",
    "    \n",
    "   \n",
    "    elif nbrs[0] in visited:\n",
    "        nbrs_copy = nbrs.copy()\n",
    "        nbrs_copy.pop(0)\n",
    "        return find_path_list(nbrs_copy, dest, g, visited)\n",
    "    \n",
    "    else:\n",
    "        result = find_path_acc(nbrs[0], dest, g, visited)\n",
    "        if (isinstance(result, type(Failure()))):\n",
    "            nbrs_copy = nbrs.copy()\n",
    "            nbrs_copy.pop(0)\n",
    "            return find_path_list(nbrs_copy, dest, g, result.visited)\n",
    "        else:\n",
    "            return result\n",
    "    \n",
    "        "
   ]
  },
  {
   "cell_type": "code",
   "execution_count": 16,
   "metadata": {},
   "outputs": [],
   "source": [
    "#Finding whether the path taken from each dependencies was successful or not\n",
    "def find_path_acc(orig, dest, g, visited):\n",
    "    if orig == dest:\n",
    "        success = Success()\n",
    "        success.path = [dest]\n",
    "        return success\n",
    "    else:\n",
    "        nbrs = neighbours(orig, g)\n",
    "        result = find_path_list(nbrs, dest, g, visited.append(orig))\n",
    "        if (isinstance(result, type(Failure()))):\n",
    "            return result\n",
    "        else:\n",
    "            success = Success()\n",
    "            paths = result.path\n",
    "            paths = [*paths, orig]\n",
    "            success.path = paths\n",
    "            return success\n",
    "        "
   ]
  },
  {
   "cell_type": "code",
   "execution_count": 17,
   "metadata": {},
   "outputs": [],
   "source": [
    "#Outputting the path taken to reach the goal task\n",
    "def find_path(orig, dest, g):\n",
    "    if orig == dest:\n",
    "        return []\n",
    "    else:\n",
    "        empty = []\n",
    "        result = find_path_acc(orig, dest, g, empty)\n",
    "        if (isinstance(result, type(Success()))):\n",
    "            res = result.path.copy()\n",
    "            res.reverse()\n",
    "            return res\n",
    "        else:\n",
    "            return False"
   ]
  },
  {
   "cell_type": "code",
   "execution_count": 18,
   "metadata": {},
   "outputs": [
    {
     "name": "stdout",
     "output_type": "stream",
     "text": [
      "The path taken to reach from starting task 73 to goal task 36 is:\n",
      "\n",
      "[73, 20, 94, 102, 36]\n"
     ]
    }
   ],
   "source": [
    "print(\"The path taken to reach from starting task 73 to goal task 36 is:\\n\")\n",
    "print(find_path(73, 36, relations))"
   ]
  },
  {
   "cell_type": "code",
   "execution_count": null,
   "metadata": {},
   "outputs": [],
   "source": []
  }
 ],
 "metadata": {
  "kernelspec": {
   "display_name": "Python 3",
   "language": "python",
   "name": "python3"
  },
  "language_info": {
   "codemirror_mode": {
    "name": "ipython",
    "version": 3
   },
   "file_extension": ".py",
   "mimetype": "text/x-python",
   "name": "python",
   "nbconvert_exporter": "python",
   "pygments_lexer": "ipython3",
   "version": "3.8.5"
  }
 },
 "nbformat": 4,
 "nbformat_minor": 4
}
